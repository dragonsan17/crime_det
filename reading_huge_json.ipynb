{
  "nbformat": 4,
  "nbformat_minor": 0,
  "metadata": {
    "colab": {
      "name": "reading_huge_json.ipynb",
      "provenance": [],
      "authorship_tag": "ABX9TyODAooLv8E4JjOJj8zl84pQ",
      "include_colab_link": true
    },
    "kernelspec": {
      "name": "python3",
      "display_name": "Python 3"
    },
    "accelerator": "GPU"
  },
  "cells": [
    {
      "cell_type": "markdown",
      "metadata": {
        "id": "view-in-github",
        "colab_type": "text"
      },
      "source": [
        "<a href=\"https://colab.research.google.com/github/dragonsan17/crime_det/blob/master/reading_huge_json.ipynb\" target=\"_parent\"><img src=\"https://colab.research.google.com/assets/colab-badge.svg\" alt=\"Open In Colab\"/></a>"
      ]
    },
    {
      "cell_type": "code",
      "metadata": {
        "id": "7Sh--SwgDGMf",
        "colab_type": "code",
        "colab": {
          "base_uri": "https://localhost:8080/",
          "height": 71
        },
        "outputId": "c8dc2c3e-7c91-4109-8eac-965abdb0a4b8"
      },
      "source": [
        "import json\n",
        "import nltk \n",
        "import string\n",
        "import re\n",
        "nltk.download('stopwords')"
      ],
      "execution_count": 1,
      "outputs": [
        {
          "output_type": "stream",
          "text": [
            "[nltk_data] Downloading package stopwords to /root/nltk_data...\n",
            "[nltk_data]   Unzipping corpora/stopwords.zip.\n"
          ],
          "name": "stdout"
        },
        {
          "output_type": "execute_result",
          "data": {
            "text/plain": [
              "True"
            ]
          },
          "metadata": {
            "tags": []
          },
          "execution_count": 1
        }
      ]
    },
    {
      "cell_type": "code",
      "metadata": {
        "id": "lLNFduao_uZv",
        "colab_type": "code",
        "colab": {
          "base_uri": "https://localhost:8080/",
          "height": 127
        },
        "outputId": "e89c07cd-1c88-44c8-acb0-7764e2f3c7a0"
      },
      "source": [
        "from google.colab import drive \n",
        "drive.mount('/content/gdrive') "
      ],
      "execution_count": 2,
      "outputs": [
        {
          "output_type": "stream",
          "text": [
            "Go to this URL in a browser: https://accounts.google.com/o/oauth2/auth?client_id=947318989803-6bn6qk8qdgf4n4g3pfee6491hc0brc4i.apps.googleusercontent.com&redirect_uri=urn%3aietf%3awg%3aoauth%3a2.0%3aoob&response_type=code&scope=email%20https%3a%2f%2fwww.googleapis.com%2fauth%2fdocs.test%20https%3a%2f%2fwww.googleapis.com%2fauth%2fdrive%20https%3a%2f%2fwww.googleapis.com%2fauth%2fdrive.photos.readonly%20https%3a%2f%2fwww.googleapis.com%2fauth%2fpeopleapi.readonly\n",
            "\n",
            "Enter your authorization code:\n",
            "··········\n",
            "Mounted at /content/gdrive\n"
          ],
          "name": "stdout"
        }
      ]
    },
    {
      "cell_type": "code",
      "metadata": {
        "id": "d_r-mJs2CKCf",
        "colab_type": "code",
        "colab": {
          "base_uri": "https://localhost:8080/",
          "height": 89
        },
        "outputId": "e5bc0dbb-2081-4857-90bb-fa77054e0ec3"
      },
      "source": [
        "from zipfile import ZipFile \n",
        "import pandas as pd\n",
        "file_name = '/content/gdrive/My Drive/crime_det/filtered_tweets_kashmir.json.zip'\n",
        "# opening the zip file in READ mode\n",
        "\n",
        "with ZipFile(file_name, 'r') as zip: \n",
        "    zip.printdir() \n",
        "    print('Extracting all the files now...') \n",
        "    zip.extractall() \n",
        "    print('Done!')"
      ],
      "execution_count": 3,
      "outputs": [
        {
          "output_type": "stream",
          "text": [
            "File Name                                             Modified             Size\n",
            "filtered_tweets_kashmir.json                   2019-11-25 17:57:08   2479022239\n",
            "Extracting all the files now...\n",
            "Done!\n"
          ],
          "name": "stdout"
        }
      ]
    },
    {
      "cell_type": "code",
      "metadata": {
        "id": "Lf2b0dCAQseE",
        "colab_type": "code",
        "colab": {
          "base_uri": "https://localhost:8080/",
          "height": 107
        },
        "outputId": "aae63cc3-0776-4d00-c90e-d898d4e7c7fe"
      },
      "source": [
        "data_path = '/content/filtered_tweets_kashmir.json'\n",
        "!pip install ijson"
      ],
      "execution_count": 4,
      "outputs": [
        {
          "output_type": "stream",
          "text": [
            "Collecting ijson\n",
            "\u001b[?25l  Downloading https://files.pythonhosted.org/packages/11/82/03c325c85196744658c6d095c1e90dbd408595c596fc136b2157b2edaa10/ijson-3.0.4-cp36-cp36m-manylinux1_x86_64.whl (98kB)\n",
            "\r\u001b[K     |███▎                            | 10kB 26.9MB/s eta 0:00:01\r\u001b[K     |██████▋                         | 20kB 31.2MB/s eta 0:00:01\r\u001b[K     |██████████                      | 30kB 22.8MB/s eta 0:00:01\r\u001b[K     |█████████████▎                  | 40kB 19.2MB/s eta 0:00:01\r\u001b[K     |████████████████▋               | 51kB 15.1MB/s eta 0:00:01\r\u001b[K     |████████████████████            | 61kB 14.2MB/s eta 0:00:01\r\u001b[K     |███████████████████████▎        | 71kB 12.8MB/s eta 0:00:01\r\u001b[K     |██████████████████████████▌     | 81kB 12.7MB/s eta 0:00:01\r\u001b[K     |█████████████████████████████▉  | 92kB 12.9MB/s eta 0:00:01\r\u001b[K     |████████████████████████████████| 102kB 7.9MB/s \n",
            "\u001b[?25hInstalling collected packages: ijson\n",
            "Successfully installed ijson-3.0.4\n"
          ],
          "name": "stdout"
        }
      ]
    },
    {
      "cell_type": "code",
      "metadata": {
        "id": "BbZbYGtoQ967",
        "colab_type": "code",
        "colab": {
          "base_uri": "https://localhost:8080/",
          "height": 377
        },
        "outputId": "ab85dfa3-eef6-4d4d-f932-9c8b10eed213"
      },
      "source": [
        "\n",
        "import ijson\n",
        "\n",
        "data = ijson.parse(open(data_path, 'r'))\n",
        "cnt=0\n",
        "df = pd.DataFrame(columns=['created_at', 'text'])\n",
        "total = 0\n",
        "time = ''\n",
        "text = ''\n",
        "lang = ''\n",
        "index = 0\n",
        "line = 0\n",
        "for prefix, event, value in data:\n",
        "  \n",
        "  if(line%5000000==0 and line//50000 == index):\n",
        "    print(index)\n",
        "    index+=1\n",
        "  line+=1\n",
        "  if(prefix == \"item.created_at\"):\n",
        "    time = value\n",
        "    cnt+=1\n",
        "  if(prefix == \"item.text\"):\n",
        "    text = value\n",
        "    cnt+=1\n",
        "  if(prefix == \"item.lang\"):\n",
        "    lang = value\n",
        "    cnt+=1\n",
        "\n",
        "  if(cnt==3):\n",
        "    if(lang=='en'):\n",
        "      df.loc[total] = [time,text]\n",
        "      total+=1\n",
        "    time = ''\n",
        "    text = ''\n",
        "    lang = ''\n",
        "    cnt=0\n",
        "\n",
        "df[['text']].head(10)"
      ],
      "execution_count": 15,
      "outputs": [
        {
          "output_type": "stream",
          "text": [
            "0\n"
          ],
          "name": "stdout"
        },
        {
          "output_type": "execute_result",
          "data": {
            "text/html": [
              "<div>\n",
              "<style scoped>\n",
              "    .dataframe tbody tr th:only-of-type {\n",
              "        vertical-align: middle;\n",
              "    }\n",
              "\n",
              "    .dataframe tbody tr th {\n",
              "        vertical-align: top;\n",
              "    }\n",
              "\n",
              "    .dataframe thead th {\n",
              "        text-align: right;\n",
              "    }\n",
              "</style>\n",
              "<table border=\"1\" class=\"dataframe\">\n",
              "  <thead>\n",
              "    <tr style=\"text-align: right;\">\n",
              "      <th></th>\n",
              "      <th>text</th>\n",
              "    </tr>\n",
              "  </thead>\n",
              "  <tbody>\n",
              "    <tr>\n",
              "      <th>0</th>\n",
              "      <td>@MehboobaMufti True</td>\n",
              "    </tr>\n",
              "    <tr>\n",
              "      <th>1</th>\n",
              "      <td>@ShekharGupta Vote banks are reality,it's key ...</td>\n",
              "    </tr>\n",
              "    <tr>\n",
              "      <th>2</th>\n",
              "      <td>My dm right now😔\\n.\\n. https://t.co/VMA36oKZN9</td>\n",
              "    </tr>\n",
              "    <tr>\n",
              "      <th>3</th>\n",
              "      <td>@SecKermani Nicely conducted</td>\n",
              "    </tr>\n",
              "    <tr>\n",
              "      <th>4</th>\n",
              "      <td>@Itsyourkhaleesi I mean, it IS okay. Bas bata ...</td>\n",
              "    </tr>\n",
              "    <tr>\n",
              "      <th>5</th>\n",
              "      <td>My fav looks #MetGala https://t.co/sJdT9fRA9k</td>\n",
              "    </tr>\n",
              "    <tr>\n",
              "      <th>6</th>\n",
              "      <td>@mosharrafzaidi @ImranKhanPTI Birds of a Flock...</td>\n",
              "    </tr>\n",
              "    <tr>\n",
              "      <th>7</th>\n",
              "      <td>@naiksays See the beauty...</td>\n",
              "    </tr>\n",
              "    <tr>\n",
              "      <th>8</th>\n",
              "      <td>LADAKH 🌎 DIVISION\\nཞིང་ཆིན་ནི་ཚད 🌎 ལདགས་གྲི་ཝི...</td>\n",
              "    </tr>\n",
              "    <tr>\n",
              "      <th>9</th>\n",
              "      <td>LADAKH 🌎 DIVISION\\nཞིང་ཆིན་ནི་ཚད 🌎 ལདགས་གྲི་ཝི...</td>\n",
              "    </tr>\n",
              "  </tbody>\n",
              "</table>\n",
              "</div>"
            ],
            "text/plain": [
              "                                                text\n",
              "0                                @MehboobaMufti True\n",
              "1  @ShekharGupta Vote banks are reality,it's key ...\n",
              "2     My dm right now😔\\n.\\n. https://t.co/VMA36oKZN9\n",
              "3                       @SecKermani Nicely conducted\n",
              "4  @Itsyourkhaleesi I mean, it IS okay. Bas bata ...\n",
              "5      My fav looks #MetGala https://t.co/sJdT9fRA9k\n",
              "6  @mosharrafzaidi @ImranKhanPTI Birds of a Flock...\n",
              "7                        @naiksays See the beauty...\n",
              "8  LADAKH 🌎 DIVISION\\nཞིང་ཆིན་ནི་ཚད 🌎 ལདགས་གྲི་ཝི...\n",
              "9  LADAKH 🌎 DIVISION\\nཞིང་ཆིན་ནི་ཚད 🌎 ལདགས་གྲི་ཝི..."
            ]
          },
          "metadata": {
            "tags": []
          },
          "execution_count": 15
        }
      ]
    },
    {
      "cell_type": "code",
      "metadata": {
        "id": "KwU5n-ZkI8m1",
        "colab_type": "code",
        "colab": {
          "base_uri": "https://localhost:8080/",
          "height": 669
        },
        "outputId": "6627954f-de4f-4480-ccbd-64ce7ee728a6"
      },
      "source": [
        "df.head(20)"
      ],
      "execution_count": 20,
      "outputs": [
        {
          "output_type": "execute_result",
          "data": {
            "text/html": [
              "<div>\n",
              "<style scoped>\n",
              "    .dataframe tbody tr th:only-of-type {\n",
              "        vertical-align: middle;\n",
              "    }\n",
              "\n",
              "    .dataframe tbody tr th {\n",
              "        vertical-align: top;\n",
              "    }\n",
              "\n",
              "    .dataframe thead th {\n",
              "        text-align: right;\n",
              "    }\n",
              "</style>\n",
              "<table border=\"1\" class=\"dataframe\">\n",
              "  <thead>\n",
              "    <tr style=\"text-align: right;\">\n",
              "      <th></th>\n",
              "      <th>created_at</th>\n",
              "      <th>text</th>\n",
              "    </tr>\n",
              "  </thead>\n",
              "  <tbody>\n",
              "    <tr>\n",
              "      <th>0</th>\n",
              "      <td>Tue May 07 08:47:24 +0000 2019</td>\n",
              "      <td>@MehboobaMufti True</td>\n",
              "    </tr>\n",
              "    <tr>\n",
              "      <th>1</th>\n",
              "      <td>Tue May 07 08:48:10 +0000 2019</td>\n",
              "      <td>@ShekharGupta Vote banks are reality,it's key ...</td>\n",
              "    </tr>\n",
              "    <tr>\n",
              "      <th>2</th>\n",
              "      <td>Tue May 07 08:48:26 +0000 2019</td>\n",
              "      <td>My dm right now😔\\n.\\n. https://t.co/VMA36oKZN9</td>\n",
              "    </tr>\n",
              "    <tr>\n",
              "      <th>3</th>\n",
              "      <td>Tue May 07 08:49:10 +0000 2019</td>\n",
              "      <td>@SecKermani Nicely conducted</td>\n",
              "    </tr>\n",
              "    <tr>\n",
              "      <th>4</th>\n",
              "      <td>Tue May 07 08:51:02 +0000 2019</td>\n",
              "      <td>@Itsyourkhaleesi I mean, it IS okay. Bas bata ...</td>\n",
              "    </tr>\n",
              "    <tr>\n",
              "      <th>5</th>\n",
              "      <td>Tue May 07 08:51:12 +0000 2019</td>\n",
              "      <td>My fav looks #MetGala https://t.co/sJdT9fRA9k</td>\n",
              "    </tr>\n",
              "    <tr>\n",
              "      <th>6</th>\n",
              "      <td>Tue May 07 08:51:21 +0000 2019</td>\n",
              "      <td>@mosharrafzaidi @ImranKhanPTI Birds of a Flock...</td>\n",
              "    </tr>\n",
              "    <tr>\n",
              "      <th>7</th>\n",
              "      <td>Tue May 07 08:53:25 +0000 2019</td>\n",
              "      <td>@naiksays See the beauty...</td>\n",
              "    </tr>\n",
              "    <tr>\n",
              "      <th>8</th>\n",
              "      <td>Tue May 07 08:54:31 +0000 2019</td>\n",
              "      <td>LADAKH 🌎 DIVISION\\nཞིང་ཆིན་ནི་ཚད 🌎 ལདགས་གྲི་ཝི...</td>\n",
              "    </tr>\n",
              "    <tr>\n",
              "      <th>9</th>\n",
              "      <td>Tue May 07 08:55:35 +0000 2019</td>\n",
              "      <td>LADAKH 🌎 DIVISION\\nཞིང་ཆིན་ནི་ཚད 🌎 ལདགས་གྲི་ཝི...</td>\n",
              "    </tr>\n",
              "    <tr>\n",
              "      <th>10</th>\n",
              "      <td>Tue May 07 08:55:52 +0000 2019</td>\n",
              "      <td>@SudheenKulkarni Vv sad on part of country's pm</td>\n",
              "    </tr>\n",
              "    <tr>\n",
              "      <th>11</th>\n",
              "      <td>Tue May 07 08:56:31 +0000 2019</td>\n",
              "      <td>@Goswami_03 @JammuTourism @diprjk @AnsuyaJamwa...</td>\n",
              "    </tr>\n",
              "    <tr>\n",
              "      <th>12</th>\n",
              "      <td>Tue May 07 08:56:32 +0000 2019</td>\n",
              "      <td>LADAKH 🌎 DIVISION\\nཞིང་ཆིན་ནི་ཚད 🌎 ལདགས་གྲི་ཝི...</td>\n",
              "    </tr>\n",
              "    <tr>\n",
              "      <th>13</th>\n",
              "      <td>Tue May 07 08:57:08 +0000 2019</td>\n",
              "      <td>@MukhtiarBugti99 Thank you</td>\n",
              "    </tr>\n",
              "    <tr>\n",
              "      <th>14</th>\n",
              "      <td>Tue May 07 08:57:17 +0000 2019</td>\n",
              "      <td>@misskhan Absolutely yes</td>\n",
              "    </tr>\n",
              "    <tr>\n",
              "      <th>15</th>\n",
              "      <td>Tue May 07 08:59:13 +0000 2019</td>\n",
              "      <td>Just posted a photo @ Shopian the Land of Mart...</td>\n",
              "    </tr>\n",
              "    <tr>\n",
              "      <th>16</th>\n",
              "      <td>Tue May 07 08:59:14 +0000 2019</td>\n",
              "      <td>@tentej @IamEJF Sir please tell...are u playin...</td>\n",
              "    </tr>\n",
              "    <tr>\n",
              "      <th>17</th>\n",
              "      <td>Tue May 07 08:59:45 +0000 2019</td>\n",
              "      <td>@Itsyourkhaleesi Hahahaha that's more like it</td>\n",
              "    </tr>\n",
              "    <tr>\n",
              "      <th>18</th>\n",
              "      <td>Tue May 07 09:00:08 +0000 2019</td>\n",
              "      <td>@Itsyourkhaleesi I know 🌸</td>\n",
              "    </tr>\n",
              "    <tr>\n",
              "      <th>19</th>\n",
              "      <td>Tue May 07 09:03:34 +0000 2019</td>\n",
              "      <td>Altit Pologround Hunza, Gilgit-Baltistan Jammu...</td>\n",
              "    </tr>\n",
              "  </tbody>\n",
              "</table>\n",
              "</div>"
            ],
            "text/plain": [
              "                        created_at                                               text\n",
              "0   Tue May 07 08:47:24 +0000 2019                                @MehboobaMufti True\n",
              "1   Tue May 07 08:48:10 +0000 2019  @ShekharGupta Vote banks are reality,it's key ...\n",
              "2   Tue May 07 08:48:26 +0000 2019     My dm right now😔\\n.\\n. https://t.co/VMA36oKZN9\n",
              "3   Tue May 07 08:49:10 +0000 2019                       @SecKermani Nicely conducted\n",
              "4   Tue May 07 08:51:02 +0000 2019  @Itsyourkhaleesi I mean, it IS okay. Bas bata ...\n",
              "5   Tue May 07 08:51:12 +0000 2019      My fav looks #MetGala https://t.co/sJdT9fRA9k\n",
              "6   Tue May 07 08:51:21 +0000 2019  @mosharrafzaidi @ImranKhanPTI Birds of a Flock...\n",
              "7   Tue May 07 08:53:25 +0000 2019                        @naiksays See the beauty...\n",
              "8   Tue May 07 08:54:31 +0000 2019  LADAKH 🌎 DIVISION\\nཞིང་ཆིན་ནི་ཚད 🌎 ལདགས་གྲི་ཝི...\n",
              "9   Tue May 07 08:55:35 +0000 2019  LADAKH 🌎 DIVISION\\nཞིང་ཆིན་ནི་ཚད 🌎 ལདགས་གྲི་ཝི...\n",
              "10  Tue May 07 08:55:52 +0000 2019    @SudheenKulkarni Vv sad on part of country's pm\n",
              "11  Tue May 07 08:56:31 +0000 2019  @Goswami_03 @JammuTourism @diprjk @AnsuyaJamwa...\n",
              "12  Tue May 07 08:56:32 +0000 2019  LADAKH 🌎 DIVISION\\nཞིང་ཆིན་ནི་ཚད 🌎 ལདགས་གྲི་ཝི...\n",
              "13  Tue May 07 08:57:08 +0000 2019                         @MukhtiarBugti99 Thank you\n",
              "14  Tue May 07 08:57:17 +0000 2019                           @misskhan Absolutely yes\n",
              "15  Tue May 07 08:59:13 +0000 2019  Just posted a photo @ Shopian the Land of Mart...\n",
              "16  Tue May 07 08:59:14 +0000 2019  @tentej @IamEJF Sir please tell...are u playin...\n",
              "17  Tue May 07 08:59:45 +0000 2019      @Itsyourkhaleesi Hahahaha that's more like it\n",
              "18  Tue May 07 09:00:08 +0000 2019                          @Itsyourkhaleesi I know 🌸\n",
              "19  Tue May 07 09:03:34 +0000 2019  Altit Pologround Hunza, Gilgit-Baltistan Jammu..."
            ]
          },
          "metadata": {
            "tags": []
          },
          "execution_count": 20
        }
      ]
    },
    {
      "cell_type": "code",
      "metadata": {
        "id": "k-GWgE-YJVq7",
        "colab_type": "code",
        "colab": {}
      },
      "source": [
        "df.to_csv('/content/gdrive/My Drive/crime_det/7_mos.csv', index = False)"
      ],
      "execution_count": 18,
      "outputs": []
    }
  ]
}